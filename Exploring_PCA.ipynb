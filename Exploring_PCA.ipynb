{
 "cells": [
  {
   "cell_type": "code",
   "execution_count": 103,
   "id": "bce227b5-39f3-4d34-9ef7-00cbceefef51",
   "metadata": {},
   "outputs": [],
   "source": [
    "import numpy as np\n",
    "import matplotlib.pyplot as plt\n",
    "from sklearn.decomposition import PCA\n",
    "from sklearn.linear_model import LogisticRegression\n",
    "from sklearn.utils import shuffle\n",
    "from sklearn.svm import SVC"
   ]
  },
  {
   "cell_type": "code",
   "execution_count": 95,
   "id": "64896ea4-7fea-4aa1-b413-e1c266e95ef7",
   "metadata": {},
   "outputs": [],
   "source": [
    "imgs = np.load(\"data/images.npy\")\n",
    "lbls = np.load(\"data/labels.npy\")"
   ]
  },
  {
   "cell_type": "code",
   "execution_count": 96,
   "id": "d4adb208-9886-4cd5-875a-1172da51ed49",
   "metadata": {},
   "outputs": [],
   "source": [
    "imgs,lbls = shuffle(imgs,lbls)"
   ]
  },
  {
   "cell_type": "code",
   "execution_count": 97,
   "id": "8b866b77-3dc0-4a4f-9722-b5e2d3ca7525",
   "metadata": {},
   "outputs": [],
   "source": [
    "train_imgs = imgs[:1600,:,:]\n",
    "train_lbls = lbls[:1600]\n",
    "\n",
    "test_imgs = imgs[1600:,:,:]\n",
    "test_lbls = lbls[1600:]"
   ]
  },
  {
   "cell_type": "code",
   "execution_count": 98,
   "id": "46f49ae9-69e0-43c4-afb0-06bb14529110",
   "metadata": {},
   "outputs": [],
   "source": [
    "pca = PCA(n_components = 16,random_state = 42)\n",
    "\n",
    "flat_train_images = train_imgs.reshape((train_imgs.shape[0],-1))\n",
    "flat_test_images = test_imgs.reshape((test_imgs.shape[0],-1))\n",
    "\n",
    "short_train_images = pca.fit_transform(flat_train_images)\n",
    "short_test_images = pca.transform(flat_test_images)"
   ]
  },
  {
   "cell_type": "code",
   "execution_count": 105,
   "id": "e04b6e30-8b23-46b9-9fc3-0551a681269e",
   "metadata": {},
   "outputs": [],
   "source": [
    "# Try out logistic regression"
   ]
  },
  {
   "cell_type": "code",
   "execution_count": 100,
   "id": "e86d6979-b287-4364-8961-4bb66eb2cf82",
   "metadata": {},
   "outputs": [],
   "source": [
    "reg = LogisticRegression().fit(short_train_images,train_lbls)"
   ]
  },
  {
   "cell_type": "code",
   "execution_count": 101,
   "id": "39205e9f-c367-437e-b2a3-e2d1a127f72e",
   "metadata": {},
   "outputs": [
    {
     "data": {
      "text/plain": [
       "0.75"
      ]
     },
     "execution_count": 101,
     "metadata": {},
     "output_type": "execute_result"
    }
   ],
   "source": [
    "reg.score(short_images,train_lbls)"
   ]
  },
  {
   "cell_type": "code",
   "execution_count": 102,
   "id": "ebb121df-e42b-4679-b989-5fbcf9c3c348",
   "metadata": {},
   "outputs": [
    {
     "data": {
      "text/plain": [
       "0.75"
      ]
     },
     "execution_count": 102,
     "metadata": {},
     "output_type": "execute_result"
    }
   ],
   "source": [
    "reg.score(short_test_images,test_lbls)"
   ]
  }
 ],
 "metadata": {
  "kernelspec": {
   "display_name": "Python 3 [Default]",
   "language": "python",
   "name": "python3"
  },
  "language_info": {
   "codemirror_mode": {
    "name": "ipython",
    "version": 3
   },
   "file_extension": ".py",
   "mimetype": "text/x-python",
   "name": "python",
   "nbconvert_exporter": "python",
   "pygments_lexer": "ipython3",
   "version": "3.9.10"
  }
 },
 "nbformat": 4,
 "nbformat_minor": 5
}
